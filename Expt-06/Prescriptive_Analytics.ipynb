{
  "nbformat": 4,
  "nbformat_minor": 0,
  "metadata": {
    "colab": {
      "provenance": []
    },
    "kernelspec": {
      "name": "python3",
      "display_name": "Python 3"
    },
    "language_info": {
      "name": "python"
    }
  },
  "cells": [
    {
      "cell_type": "code",
      "execution_count": 1,
      "metadata": {
        "colab": {
          "base_uri": "https://localhost:8080/"
        },
        "id": "g5NvIqLcYreQ",
        "outputId": "5c0693e8-c78a-4dc0-b639-49b732f908b6"
      },
      "outputs": [
        {
          "output_type": "stream",
          "name": "stdout",
          "text": [
            "Collecting pulp\n",
            "  Downloading pulp-3.2.2-py3-none-any.whl.metadata (6.9 kB)\n",
            "Downloading pulp-3.2.2-py3-none-any.whl (16.4 MB)\n",
            "\u001b[2K   \u001b[90m━━━━━━━━━━━━━━━━━━━━━━━━━━━━━━━━━━━━━━━━\u001b[0m \u001b[32m16.4/16.4 MB\u001b[0m \u001b[31m45.7 MB/s\u001b[0m eta \u001b[36m0:00:00\u001b[0m\n",
            "\u001b[?25hInstalling collected packages: pulp\n",
            "Successfully installed pulp-3.2.2\n"
          ]
        }
      ],
      "source": [
        "import pandas as pd\n",
        "import numpy as np\n",
        "import random\n",
        "!pip install pulp\n",
        "import matplotlib.pyplot as plt"
      ]
    },
    {
      "cell_type": "code",
      "source": [
        "import pulp\n",
        "\n",
        "model = pulp.LpProblem(\"Production_Optimization\", pulp.LpMaximize)\n",
        "\n",
        "\n",
        "#Descision Variables : Products to Produce\n",
        "x1 = pulp.LpVariable(\"Product_A\", lowBound=0, cat=\"Integer\")\n",
        "x2 = pulp.LpVariable(\"Product_B\", lowBound=0, cat=\"Integer\")\n",
        "\n",
        "#Objective Function (maximize Profit)\n",
        "model += 40*x1 + 30*x2, \"Total_Profit\"\n",
        "\n",
        "#Constarints\n",
        "model += 2*x1 +x2 <= 40 #Machine Hours\n",
        "model += x1+ 2*x2 <=50 #Labour Hours\n",
        "\n",
        "model.solve()\n",
        "\n",
        "print(\"Status\", pulp.LpStatus[model.status])\n",
        "print(\"Produce Product A:\", x1.varValue)\n",
        "print(\"Produce Product B:\", x2.varValue)\n",
        "print(\"Max Profit:\", pulp.value(model.objective))\n"
      ],
      "metadata": {
        "colab": {
          "base_uri": "https://localhost:8080/"
        },
        "id": "bqD0iXgwYvxQ",
        "outputId": "9729a449-b3c1-417f-a801-356a53044af2"
      },
      "execution_count": 4,
      "outputs": [
        {
          "output_type": "stream",
          "name": "stdout",
          "text": [
            "Status Optimal\n",
            "Produce Product A: 10.0\n",
            "Produce Product B: 20.0\n",
            "Max Profit: 1000.0\n"
          ]
        }
      ]
    },
    {
      "cell_type": "code",
      "source": [
        "import pulp\n",
        "\n",
        "model = pulp.LpProblem(\"Production_Optimization\", pulp.LpMaximize)\n",
        "\n",
        "\n",
        "#Descision Variables : Products to Produce\n",
        "x = pulp.LpVariable(\"Product_A\", lowBound=0, cat=\"Integer\")\n",
        "y = pulp.LpVariable(\"Product_B\", lowBound=0, cat=\"Integer\")\n",
        "\n",
        "#Objective Function (maximize Profit)\n",
        "model += 3*x + 5*y, \"Total_Profit\"\n",
        "\n",
        "#Constarints\n",
        "model += 2*x + 3*y <= 12\n",
        "model +=  y -x <= 3\n",
        "model += x >= 4\n",
        "model += y <= 3\n",
        "model += x >= 0\n",
        "model += y >= 0\n",
        "\n",
        "\n",
        "model.solve()\n",
        "\n",
        "print(\"Status\", pulp.LpStatus[model.status])\n",
        "print(\"Produce Product A:\", x.varValue)\n",
        "print(\"Produce Product B:\", y.varValue)\n",
        "print(\"Max Profit:\", pulp.value(model.objective))\n"
      ],
      "metadata": {
        "colab": {
          "base_uri": "https://localhost:8080/"
        },
        "id": "xe5aub11ccbc",
        "outputId": "5774a770-8614-4c4f-876e-e2d143ff26a3"
      },
      "execution_count": 5,
      "outputs": [
        {
          "output_type": "stream",
          "name": "stdout",
          "text": [
            "Status Optimal\n",
            "Produce Product A: 6.0\n",
            "Produce Product B: 0.0\n",
            "Max Profit: 18.0\n"
          ]
        }
      ]
    },
    {
      "cell_type": "code",
      "source": [
        "import pulp\n",
        "\n",
        "# Get all names defined in the pulp module\n",
        "all_names = dir(pulp)\n",
        "\n",
        "# Filter for functions (excluding built-in attributes and methods)\n",
        "inbuilt_functions = [name for name in all_names if callable(getattr(pulp, name)) and not name.startswith('_')]\n",
        "\n",
        "# Print the list of functions\n",
        "print(\"Inbuilt functions in the pulp library:\")\n",
        "for func in inbuilt_functions:\n",
        "    print(func)"
      ],
      "metadata": {
        "colab": {
          "base_uri": "https://localhost:8080/"
        },
        "id": "alPiPrIsdxXZ",
        "outputId": "3a065c4e-1a68-40a0-c861-0c05d4477c38"
      },
      "execution_count": 15,
      "outputs": [
        {
          "output_type": "stream",
          "name": "stdout",
          "text": [
            "Inbuilt functions in the pulp library:\n",
            "Any\n",
            "CHOCO_CMD\n",
            "COINMP_DLL\n",
            "COIN_CMD\n",
            "COPT\n",
            "COPT_CMD\n",
            "COPT_DLL\n",
            "CPLEX\n",
            "CPLEX_CMD\n",
            "CPLEX_PY\n",
            "CUOPT\n",
            "CYLP\n",
            "Counter\n",
            "Dict\n",
            "FSCIP\n",
            "FSCIP_CMD\n",
            "FixedElasticSubProblem\n",
            "FractionElasticSubProblem\n",
            "GLPK\n",
            "GLPK_CMD\n",
            "GUROBI\n",
            "GUROBI_CMD\n",
            "HiGHS\n",
            "HiGHS_CMD\n",
            "Iterable\n",
            "List\n",
            "Literal\n",
            "LpAffineExpression\n",
            "LpConstraint\n",
            "LpConstraintVar\n",
            "LpElement\n",
            "LpFractionConstraint\n",
            "LpProblem\n",
            "LpSolver\n",
            "LpSolver_CMD\n",
            "LpVariable\n",
            "MIPCL_CMD\n",
            "MOSEK\n",
            "Optional\n",
            "PULP_CBC_CMD\n",
            "PYGLPK\n",
            "PulpError\n",
            "PulpSolverError\n",
            "SAS94\n",
            "SASCAS\n",
            "SASsolver\n",
            "SCIP\n",
            "SCIP_CMD\n",
            "SCIP_PY\n",
            "Type\n",
            "Union\n",
            "XPRESS\n",
            "XPRESS_CMD\n",
            "XPRESS_PY\n",
            "YAPOSIB\n",
            "allcombinations\n",
            "allpermutations\n",
            "clock\n",
            "combination\n",
            "getSolver\n",
            "getSolverFromDict\n",
            "getSolverFromJson\n",
            "isNumber\n",
            "listSolvers\n",
            "lpDot\n",
            "lpSum\n",
            "makeDict\n",
            "permutation\n",
            "pulpTestAll\n",
            "read_table\n",
            "resource_clock\n",
            "splitDict\n",
            "time\n",
            "value\n",
            "valueOrDefault\n"
          ]
        }
      ]
    },
    {
      "cell_type": "code",
      "source": [
        "import numpy as np\n",
        "import random\n",
        "\n",
        "class BernoulliBandit:\n",
        "  \"\"\"K options (arms), each with an unknown conversion probability.\"\"\"\n",
        "  def __init__(self, probs, seed=0):\n",
        "    self.probs = probs\n",
        "    self.k = len(probs)\n",
        "    self.rng = np.random.default_rng(seed)\n",
        "\n",
        "  def pull(self, a):\n",
        "    # Reward = 1 if conversion happens, else 0\n",
        "    return 1 if self.rng.random() < self.probs[a] else 0\n",
        "\n",
        "def epsilon_greedy_bandit(true_probs, steps=10_000, epsilon=0.1):\n",
        "  bandit = BernoulliBandit(true_probs)\n",
        "  k = len(true_probs)\n",
        "  Q = np.zeros(k)  # estimated value per arm\n",
        "  N = np.zeros(k)  # pull counts per arm\n",
        "  total_reward = 0\n",
        "\n",
        "  for t in range(steps):\n",
        "    # Explore or exploit\n",
        "    a = random.randrange(k) if random.random() < epsilon else int(np.argmax(Q))\n",
        "    r = bandit.pull(a)\n",
        "\n",
        "    # Online mean update for Q[a]\n",
        "    N[a] += 1\n",
        "    Q[a] += (r - Q[a]) / N[a]\n",
        "\n",
        "    total_reward += r\n",
        "\n",
        "  policy = int(np.argmax(Q))\n",
        "  return {\"Q_estimates\": Q, \"counts\": N, \"best_arm\": policy, \"total_reward\": total_reward}\n",
        "\n",
        "# Demo: 3 promos with true conversion probs 0.10, 0.30, 0.60\n",
        "out = epsilon_greedy_bandit([0.10, 0.30, 0.60], steps=5000, epsilon=0.1)\n",
        "for key, value in out.items():\n",
        "    print(f\"{key}: {value}\")"
      ],
      "metadata": {
        "colab": {
          "base_uri": "https://localhost:8080/"
        },
        "id": "H718yaVDiLUl",
        "outputId": "7c7ccaef-360e-4770-cfeb-ad76774e028f"
      },
      "execution_count": 19,
      "outputs": [
        {
          "output_type": "stream",
          "name": "stdout",
          "text": [
            "Q_estimates: [0.10928962 0.20945946 0.60933819]\n",
            "counts: [ 183.  148. 4669.]\n",
            "best_arm: 2\n",
            "total_reward: 2896\n"
          ]
        }
      ]
    }
  ]
}