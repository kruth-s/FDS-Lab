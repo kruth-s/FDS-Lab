{
  "cells": [
    {
      "cell_type": "code",
      "execution_count": 1,
      "metadata": {
        "colab": {
          "base_uri": "https://localhost:8080/"
        },
        "id": "g5NvIqLcYreQ",
        "outputId": "5c0693e8-c78a-4dc0-b639-49b732f908b6"
      },
      "outputs": [
        {
          "name": "stdout",
          "output_type": "stream",
          "text": [
            "Collecting pulp\n",
            "  Downloading pulp-3.2.2-py3-none-any.whl.metadata (6.9 kB)\n",
            "Downloading pulp-3.2.2-py3-none-any.whl (16.4 MB)\n",
            "\u001b[2K   \u001b[90m━━━━━━━━━━━━━━━━━━━━━━━━━━━━━━━━━━━━━━━━\u001b[0m \u001b[32m16.4/16.4 MB\u001b[0m \u001b[31m45.7 MB/s\u001b[0m eta \u001b[36m0:00:00\u001b[0m\n",
            "\u001b[?25hInstalling collected packages: pulp\n",
            "Successfully installed pulp-3.2.2\n"
          ]
        }
      ],
      "source": [
        "import pandas as pd\n",
        "import numpy as np\n",
        "import random\n",
        "!pip install pulp\n",
        "import matplotlib.pyplot as plt"
      ]
    },
    {
      "cell_type": "code",
      "execution_count": 4,
      "metadata": {
        "colab": {
          "base_uri": "https://localhost:8080/"
        },
        "id": "bqD0iXgwYvxQ",
        "outputId": "9729a449-b3c1-417f-a801-356a53044af2"
      },
      "outputs": [
        {
          "name": "stdout",
          "output_type": "stream",
          "text": [
            "Status Optimal\n",
            "Produce Product A: 10.0\n",
            "Produce Product B: 20.0\n",
            "Max Profit: 1000.0\n"
          ]
        }
      ],
      "source": [
        "import pulp\n",
        "\n",
        "model = pulp.LpProblem(\"Production_Optimization\", pulp.LpMaximize)\n",
        "\n",
        "\n",
        "#Descision Variables : Products to Produce\n",
        "x1 = pulp.LpVariable(\"Product_A\", lowBound=0, cat=\"Integer\")\n",
        "x2 = pulp.LpVariable(\"Product_B\", lowBound=0, cat=\"Integer\")\n",
        "\n",
        "#Objective Function (maximize Profit)\n",
        "model += 40*x1 + 30*x2, \"Total_Profit\"\n",
        "\n",
        "#Constarints\n",
        "model += 2*x1 +x2 <= 40 #Machine Hours\n",
        "model += x1+ 2*x2 <=50 #Labour Hours\n",
        "\n",
        "model.solve()\n",
        "\n",
        "print(\"Status\", pulp.LpStatus[model.status])\n",
        "print(\"Produce Product A:\", x1.varValue)\n",
        "print(\"Produce Product B:\", x2.varValue)\n",
        "print(\"Max Profit:\", pulp.value(model.objective))\n"
      ]
    },
    {
      "cell_type": "code",
      "execution_count": 5,
      "metadata": {
        "colab": {
          "base_uri": "https://localhost:8080/"
        },
        "id": "xe5aub11ccbc",
        "outputId": "5774a770-8614-4c4f-876e-e2d143ff26a3"
      },
      "outputs": [
        {
          "name": "stdout",
          "output_type": "stream",
          "text": [
            "Status Optimal\n",
            "Produce Product A: 6.0\n",
            "Produce Product B: 0.0\n",
            "Max Profit: 18.0\n"
          ]
        }
      ],
      "source": [
        "import pulp\n",
        "\n",
        "model = pulp.LpProblem(\"Production_Optimization\", pulp.LpMaximize)\n",
        "\n",
        "\n",
        "#Descision Variables : Products to Produce\n",
        "x = pulp.LpVariable(\"Product_A\", lowBound=0, cat=\"Integer\")\n",
        "y = pulp.LpVariable(\"Product_B\", lowBound=0, cat=\"Integer\")\n",
        "\n",
        "#Objective Function (maximize Profit)\n",
        "model += 3*x + 5*y, \"Total_Profit\"\n",
        "\n",
        "#Constarints\n",
        "model += 2*x + 3*y <= 12\n",
        "model +=  y -x <= 3\n",
        "model += x >= 4\n",
        "model += y <= 3\n",
        "model += x >= 0\n",
        "model += y >= 0\n",
        "\n",
        "\n",
        "model.solve()\n",
        "\n",
        "print(\"Status\", pulp.LpStatus[model.status])\n",
        "print(\"Produce Product A:\", x.varValue)\n",
        "print(\"Produce Product B:\", y.varValue)\n",
        "print(\"Max Profit:\", pulp.value(model.objective))\n"
      ]
    },
    {
      "cell_type": "code",
      "execution_count": 15,
      "metadata": {
        "colab": {
          "base_uri": "https://localhost:8080/"
        },
        "id": "alPiPrIsdxXZ",
        "outputId": "3a065c4e-1a68-40a0-c861-0c05d4477c38"
      },
      "outputs": [
        {
          "name": "stdout",
          "output_type": "stream",
          "text": [
            "Inbuilt functions in the pulp library:\n",
            "Any\n",
            "CHOCO_CMD\n",
            "COINMP_DLL\n",
            "COIN_CMD\n",
            "COPT\n",
            "COPT_CMD\n",
            "COPT_DLL\n",
            "CPLEX\n",
            "CPLEX_CMD\n",
            "CPLEX_PY\n",
            "CUOPT\n",
            "CYLP\n",
            "Counter\n",
            "Dict\n",
            "FSCIP\n",
            "FSCIP_CMD\n",
            "FixedElasticSubProblem\n",
            "FractionElasticSubProblem\n",
            "GLPK\n",
            "GLPK_CMD\n",
            "GUROBI\n",
            "GUROBI_CMD\n",
            "HiGHS\n",
            "HiGHS_CMD\n",
            "Iterable\n",
            "List\n",
            "Literal\n",
            "LpAffineExpression\n",
            "LpConstraint\n",
            "LpConstraintVar\n",
            "LpElement\n",
            "LpFractionConstraint\n",
            "LpProblem\n",
            "LpSolver\n",
            "LpSolver_CMD\n",
            "LpVariable\n",
            "MIPCL_CMD\n",
            "MOSEK\n",
            "Optional\n",
            "PULP_CBC_CMD\n",
            "PYGLPK\n",
            "PulpError\n",
            "PulpSolverError\n",
            "SAS94\n",
            "SASCAS\n",
            "SASsolver\n",
            "SCIP\n",
            "SCIP_CMD\n",
            "SCIP_PY\n",
            "Type\n",
            "Union\n",
            "XPRESS\n",
            "XPRESS_CMD\n",
            "XPRESS_PY\n",
            "YAPOSIB\n",
            "allcombinations\n",
            "allpermutations\n",
            "clock\n",
            "combination\n",
            "getSolver\n",
            "getSolverFromDict\n",
            "getSolverFromJson\n",
            "isNumber\n",
            "listSolvers\n",
            "lpDot\n",
            "lpSum\n",
            "makeDict\n",
            "permutation\n",
            "pulpTestAll\n",
            "read_table\n",
            "resource_clock\n",
            "splitDict\n",
            "time\n",
            "value\n",
            "valueOrDefault\n"
          ]
        }
      ],
      "source": [
        "import pulp\n",
        "\n",
        "# Get all names defined in the pulp module\n",
        "all_names = dir(pulp)\n",
        "\n",
        "# Filter for functions (excluding built-in attributes and methods)\n",
        "inbuilt_functions = [name for name in all_names if callable(getattr(pulp, name)) and not name.startswith('_')]\n",
        "\n",
        "# Print the list of functions\n",
        "print(\"Inbuilt functions in the pulp library:\")\n",
        "for func in inbuilt_functions:\n",
        "    print(func)"
      ]
    },
    {
      "cell_type": "code",
      "execution_count": null,
      "metadata": {},
      "outputs": [],
      "source": []
    },
    {
      "cell_type": "code",
      "execution_count": 2,
      "metadata": {},
      "outputs": [],
      "source": [
        "#Simulation for the Prescriptive Analytics"
      ]
    },
    {
      "cell_type": "code",
      "execution_count": 1,
      "metadata": {
        "colab": {
          "base_uri": "https://localhost:8080/"
        },
        "id": "H718yaVDiLUl",
        "outputId": "7c7ccaef-360e-4770-cfeb-ad76774e028f"
      },
      "outputs": [
        {
          "name": "stdout",
          "output_type": "stream",
          "text": [
            "    Time  Interval (Arm)  Reward Achieved\n",
            "0      1               0                0\n",
            "1      2               0                0\n",
            "2      3               0                1\n",
            "3      4               0                1\n",
            "4      5               0                0\n",
            "5      6               0                0\n",
            "6      7               0                0\n",
            "7      8               0                0\n",
            "8      9               0                0\n",
            "9     10               0                0\n",
            "10    11               0                0\n",
            "11    12               0                1\n",
            "12    13               0                0\n",
            "13    14               0                1\n",
            "14    15               0                0\n",
            "15    16               0                0\n",
            "16    17               0                0\n",
            "17    18               0                0\n",
            "18    19               0                0\n",
            "19    20               0                0\n"
          ]
        }
      ],
      "source": [
        "import numpy as np, random\n",
        "import pandas as pd\n",
        "\n",
        "class BernoulliBandit:\n",
        "    \"\"\"K options (arms), each with an unknown conversion probability.\"\"\"\n",
        "    def __init__(self, probs, seed=0):\n",
        "        self.probs = probs\n",
        "        self.k = len(probs)\n",
        "        self.rng = np.random.default_rng(seed)\n",
        "\n",
        "    def pull(self, a):\n",
        "        # Reward = 1 if conversion happens, else 0\n",
        "        return 1 if self.rng.random() < self.probs[a] else 0\n",
        "\n",
        "def epsilon_greedy_bandit(true_probs, steps=50, epsilon=0.1):\n",
        "    bandit = BernoulliBandit(true_probs)\n",
        "    k = len(true_probs)\n",
        "    Q = np.zeros(k)  # estimated value per arm\n",
        "    N = np.zeros(k)  # pull counts per arm\n",
        "    total_reward = 0\n",
        "    log = []\n",
        "\n",
        "    for t in range(1, steps + 1):\n",
        "        # Explore or exploit\n",
        "        a = random.randrange(k) if random.random() < epsilon else int(np.argmax(Q))\n",
        "        r = bandit.pull(a)\n",
        "\n",
        "        # Online mean update for Q[a]\n",
        "        N[a] += 1\n",
        "        Q[a] += (r - Q[a]) / N[a]\n",
        "        total_reward += r\n",
        "\n",
        "        # log row: (time, arm chosen, reward)\n",
        "        log.append([t, a, r])\n",
        "\n",
        "    return pd.DataFrame(log, columns=[\"Time\", \"Interval (Arm)\", \"Reward Achieved\"])\n",
        "\n",
        "# Demo run: 3 promos with probs 0.10, 0.30, 0.60\n",
        "table = epsilon_greedy_bandit([0.10, 0.30, 0.60], steps=20, epsilon=0.1)\n",
        "print(table)\n"
      ]
    }
  ],
  "metadata": {
    "colab": {
      "provenance": []
    },
    "kernelspec": {
      "display_name": "base",
      "language": "python",
      "name": "python3"
    },
    "language_info": {
      "codemirror_mode": {
        "name": "ipython",
        "version": 3
      },
      "file_extension": ".py",
      "mimetype": "text/x-python",
      "name": "python",
      "nbconvert_exporter": "python",
      "pygments_lexer": "ipython3",
      "version": "3.11.7"
    }
  },
  "nbformat": 4,
  "nbformat_minor": 0
}
